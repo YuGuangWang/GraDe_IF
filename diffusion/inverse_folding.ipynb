{
 "cells": [
  {
   "cell_type": "code",
   "execution_count": null,
   "metadata": {},
   "outputs": [],
   "source": [
    "import torch\n",
    "import numpy as np\n",
    "from ema_pytorch import EMA\n",
    "from gradeif import EGNN_NET,GraDe_IF\n",
    "import torch.nn.functional as F\n",
    "\n",
    "amino_acids_type = ['A', 'R', 'N', 'D', 'C', 'Q', 'E', 'G', 'H', 'I',\n",
    "                'L', 'K', 'M', 'F', 'P', 'S', 'T', 'W', 'Y', 'V']\n",
    "                \n",
    "device = torch.device('cuda' if torch.cuda.is_available() else 'cpu')\n",
    "\n",
    "ckpt = torch.load('results/weight/D3PM_UNIFORM_3M.pt', map_location=device)\n",
    "config = ckpt['config']\n",
    "config['noise_type'] = 'uniform'\n",
    "\n",
    "\n",
    "gnn = EGNN_NET(input_feat_dim=config['input_feat_dim'],hidden_channels=config['hidden_dim'],edge_attr_dim=config['edge_attr_dim'],dropout=config['drop_out'],n_layers=config['depth'],update_edge = config['update_edge'],embedding=config['embedding'],embedding_dim=config['embedding_dim'],embed_ss=config['embed_ss'],norm_feat=config['norm_feat'])\n",
    "\n",
    "diffusion = GraDe_IF(model = gnn,config=config)\n",
    "\n",
    "diffusion = EMA(diffusion)\n",
    "diffusion.load_state_dict(ckpt['ema'])\n",
    "\n",
    "\n"
   ]
  },
  {
   "cell_type": "markdown",
   "metadata": {},
   "source": [
    "### generate graph from pdb file"
   ]
  },
  {
   "cell_type": "code",
   "execution_count": null,
   "metadata": {},
   "outputs": [],
   "source": [
    "import sys\n",
    "import os\n",
    "\n",
    "current_directory = os.getcwd()\n",
    "parent_directory = os.path.dirname(current_directory)\n",
    "sys.path.append(parent_directory)\n",
    "import torch_geometric\n",
    "from torch_geometric.data import Batch\n",
    "from dataset_src.generate_graph import prepare_graph,pdb2graph\n",
    "\n",
    "pdb_path = '../dataset/raw/test/3fkf.A.pdb'\n",
    "graph = pdb2graph(pdb_path,normalize_path = '../dataset_src/mean_attr.pt')\n",
    "input_graph = Batch.from_data_list([prepare_graph(graph)])\n",
    "print(input_graph)\n",
    "\n",
    "\n"
   ]
  },
  {
   "cell_type": "code",
   "execution_count": null,
   "metadata": {},
   "outputs": [],
   "source": [
    "import networkx as nx\n",
    "import matplotlib.pyplot as plt\n",
    "\n",
    "fig,ax = plt.subplots(1,figsize=(5, 5))\n",
    "g = torch_geometric.utils.to_networkx(input_graph)\n",
    "nx.draw(g,node_size=0.5,pos=input_graph.pos[:,1:3].cpu().numpy(),ax=ax)"
   ]
  },
  {
   "cell_type": "code",
   "execution_count": null,
   "metadata": {},
   "outputs": [],
   "source": [
    "prob,sample_graph = diffusion.ema_model.ddim_sample(input_graph)\n",
    "recovery = (prob.argmax(dim=1) == input_graph.x.argmax(dim = 1)).sum()/(input_graph.x.argmax(dim=1) == input_graph.x.argmax(dim = 1)).shape[0]\n",
    "print('sample sequence: ', ''.join([amino_acids_type[i] for i in sample_graph.argmax(dim=1).tolist()]))\n",
    "print(recovery.item())\n",
    "\n",
    "prob,sample_graph = diffusion.ema_model.ddim_sample(input_graph,diverse=True)\n",
    "recovery = (prob.argmax(dim=1) == input_graph.x.argmax(dim = 1)).sum()/(input_graph.x.argmax(dim=1) == input_graph.x.argmax(dim = 1)).shape[0]\n",
    "print('sample sequence: ', ''.join([amino_acids_type[i] for i in sample_graph.argmax(dim=1).tolist()]))\n",
    "print('sample sequence with diveristy mode: ',recovery.item())"
   ]
  },
  {
   "cell_type": "markdown",
   "metadata": {},
   "source": [
    "### Control diversity of sample sequence by step size"
   ]
  },
  {
   "cell_type": "code",
   "execution_count": null,
   "metadata": {},
   "outputs": [],
   "source": [
    "step_list = [50,10,5,1]\n",
    "record = {}\n",
    "diversity_record = {}\n",
    "for step in step_list:\n",
    "    recovery_list = []  \n",
    "    sample_list = []\n",
    "    for i in range(10):\n",
    "        prob,sample_graph = diffusion.ema_model.ddim_sample(input_graph,step=step)\n",
    "        recovery = (sample_graph.argmax(dim=1) == input_graph.x.argmax(dim = 1)).sum()/input_graph.x.shape[0]\n",
    "        recovery_list.append(recovery.item())\n",
    "        sample_list.append(sample_graph)\n",
    "    record[step] = np.mean(recovery_list)\n",
    "    diversity = 1 - (sample_list[0].argmax(dim=1) == sample_list[1].argmax(dim = 1)).sum()/input_graph.x.shape[0]\n",
    "    diversity_record[step] = diversity.item()\n",
    "\n",
    "for step in step_list:\n",
    "    print(step)\n",
    "    print('recovery:',record[step])\n",
    "    print('diversity:',diversity_record[step])"
   ]
  },
  {
   "cell_type": "markdown",
   "metadata": {},
   "source": [
    "### By aggregating the probabilities of each sample, we can mitigate uncertainty originating from the prior $ x_T $, resulting in $ p(x_{aa}) $, which exhibits an enhanced recovery rate."
   ]
  },
  {
   "cell_type": "code",
   "execution_count": null,
   "metadata": {},
   "outputs": [],
   "source": [
    "ensemble_num = 50\n",
    "all_prob = []\n",
    "for i in range(ensemble_num):\n",
    "    prob,sample_graph = diffusion.ema_model.ddim_sample(input_graph,step=100,diverse=True)\n",
    "    all_prob.append(prob)\n",
    "\n",
    "all_zt_tensor = torch.stack(all_prob)\n",
    "recovery = (all_zt_tensor.mean(dim = 0).argmax(dim=1) == input_graph.x.argmax(dim = 1)).sum()/input_graph.x.shape[0]\n",
    "print('recovery rate:', recovery.item())\n",
    "ll_fullseq = F.cross_entropy(all_zt_tensor.mean(dim = 0),input_graph.x.argmax(dim = 1), reduction='mean').item()\n",
    "perplexity = np.exp(ll_fullseq)\n",
    "print('perplexity:' , perplexity)"
   ]
  },
  {
   "cell_type": "markdown",
   "metadata": {},
   "source": [
    "### Leveraging Biological Substitution Matrices to Guide the Generative Process\n",
    "\n",
    "Biological substitution matrices, such as the BLOSUM, can serve as transition matrices to inform and steer the generative process. The BLOSUM matrix is a popular choice due to its general applicability; however, one can also construct a 'task-specific' transition matrix through Multiple Sequence Alignment (MSA) to tailor the matrix more closely to the requirements of the task at hand. Additionally, position-wise transition probability matrices can be employed to accommodate variations that are dependent on the specific location within the sequence. "
   ]
  },
  {
   "cell_type": "code",
   "execution_count": null,
   "metadata": {},
   "outputs": [],
   "source": [
    "import pandas as pd\n",
    "import matplotlib.pyplot as plt\n",
    "import matplotlib.gridspec as gridspec\n",
    "import seaborn as sns\n",
    "from matplotlib import colors\n",
    "\n",
    "original_score = torch.load('../dataset_src/blosum_substitute.pt')['original_score']\n",
    "order = ['C', 'S', 'T', 'A', 'G', 'P', 'D', 'E', 'N', 'Q', 'H', 'R', 'K', 'M', 'I', 'L', 'V', 'W', 'Y', 'F']\n",
    "original_score = pd.DataFrame(original_score.numpy(), columns = order, index=order)\n",
    "# Create a figure and a gridspec\n",
    "fig = plt.figure(figsize=(5, 4))\n",
    "gs = gridspec.GridSpec(1, 2, width_ratios=[1, 0.05])\n",
    "\n",
    "# Create two subplots for the heatmaps\n",
    "\n",
    "ax1 = plt.subplot(gs[0])\n",
    "# Create a second subplot for the colorbar\n",
    "cbar_ax = plt.subplot(gs[1])\n",
    "# Draw heatmaps\n",
    "sns.heatmap(original_score,vmin=5, ax=ax1, norm=colors.PowerNorm(gamma=1), cmap='flare', cbar_ax=cbar_ax)\n"
   ]
  },
  {
   "cell_type": "code",
   "execution_count": null,
   "metadata": {},
   "outputs": [],
   "source": [
    "config['noise_type'] = 'blosum'\n",
    "\n",
    "\n",
    "gnn = EGNN_NET(input_feat_dim=config['input_feat_dim'],hidden_channels=config['hidden_dim'],edge_attr_dim=config['edge_attr_dim'],dropout=config['drop_out'],n_layers=config['depth'],update_edge = config['update_edge'],embedding=config['embedding'],embedding_dim=config['embedding_dim'],embed_ss=config['embed_ss'],norm_feat=config['norm_feat'])\n",
    "\n",
    "diffusion = GraDe_IF(model = gnn,config=config)\n",
    "\n",
    "diffusion = EMA(diffusion)\n",
    "diffusion.load_state_dict(ckpt['ema'])"
   ]
  },
  {
   "cell_type": "code",
   "execution_count": null,
   "metadata": {},
   "outputs": [],
   "source": [
    "print('generate with :',diffusion.ema_model.config['noise_type'])\n",
    "\n",
    "prob,sample_graph = diffusion.ema_model.ddim_sample(input_graph)\n",
    "recovery = (prob.argmax(dim=1) == input_graph.x.argmax(dim = 1)).sum()/(input_graph.x.argmax(dim=1) == input_graph.x.argmax(dim = 1)).shape[0]\n",
    "print('sample sequence: ', ''.join([amino_acids_type[i] for i in sample_graph.argmax(dim=1).tolist()]))\n",
    "print(recovery.item())\n",
    "\n",
    "prob,sample_graph = diffusion.ema_model.ddim_sample(input_graph,diverse=True)\n",
    "recovery = (prob.argmax(dim=1) == input_graph.x.argmax(dim = 1)).sum()/(input_graph.x.argmax(dim=1) == input_graph.x.argmax(dim = 1)).shape[0]\n",
    "print('sample sequence: ', ''.join([amino_acids_type[i] for i in sample_graph.argmax(dim=1).tolist()]))\n",
    "print('sample sequence with diveristy mode: ',recovery.item())"
   ]
  },
  {
   "cell_type": "markdown",
   "metadata": {},
   "source": [
    "### Generate partial amino acid and fix some amino acid"
   ]
  },
  {
   "cell_type": "code",
   "execution_count": null,
   "metadata": {},
   "outputs": [],
   "source": [
    "prob,sample_graph = diffusion.ema_model.ddim_sample(input_graph)\n",
    "recovery = (prob.argmax(dim=1) == input_graph.x.argmax(dim = 1)).sum()/(input_graph.x.argmax(dim=1) == input_graph.x.argmax(dim = 1)).shape[0]\n",
    "print('sample whole sequence: ', ''.join([amino_acids_type[i] for i in sample_graph.argmax(dim=1).tolist()]))\n",
    "\n",
    "prob,sample_graph = diffusion.ema_model.ddim_sample(input_graph,cond=torch.tensor([0,1,2,3,4,5]))\n",
    "recovery = (prob.argmax(dim=1) == input_graph.x.argmax(dim = 1)).sum()/(input_graph.x.argmax(dim=1) == input_graph.x.argmax(dim = 1)).shape[0]\n",
    "print('partial sample sequence: ', ''.join([amino_acids_type[i] for i in sample_graph.argmax(dim=1).tolist()]))\n",
    "\n",
    "print('original sequence: ', ''.join([amino_acids_type[i] for i in input_graph.x.argmax(dim=1).tolist()]))"
   ]
  },
  {
   "cell_type": "code",
   "execution_count": null,
   "metadata": {},
   "outputs": [],
   "source": []
  }
 ],
 "metadata": {
  "kernelspec": {
   "display_name": "protein",
   "language": "python",
   "name": "python3"
  },
  "language_info": {
   "codemirror_mode": {
    "name": "ipython",
    "version": 3
   },
   "file_extension": ".py",
   "mimetype": "text/x-python",
   "name": "python",
   "nbconvert_exporter": "python",
   "pygments_lexer": "ipython3",
   "version": "3.9.16"
  },
  "orig_nbformat": 4
 },
 "nbformat": 4,
 "nbformat_minor": 2
}
